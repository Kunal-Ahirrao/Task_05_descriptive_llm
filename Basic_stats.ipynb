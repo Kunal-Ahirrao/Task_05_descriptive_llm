{
  "nbformat": 4,
  "nbformat_minor": 0,
  "metadata": {
    "colab": {
      "provenance": [],
      "authorship_tag": "ABX9TyNQSJkthiLsIkcaWc4nFqGh",
      "include_colab_link": true
    },
    "kernelspec": {
      "name": "python3",
      "display_name": "Python 3"
    },
    "language_info": {
      "name": "python"
    }
  },
  "cells": [
    {
      "cell_type": "markdown",
      "metadata": {
        "id": "view-in-github",
        "colab_type": "text"
      },
      "source": [
        "<a href=\"https://colab.research.google.com/github/Kunal-Ahirrao/Task_05_descriptive_llm/blob/main/Basic_stats.ipynb\" target=\"_parent\"><img src=\"https://colab.research.google.com/assets/colab-badge.svg\" alt=\"Open In Colab\"/></a>"
      ]
    },
    {
      "cell_type": "code",
      "execution_count": 1,
      "metadata": {
        "colab": {
          "base_uri": "https://localhost:8080/"
        },
        "id": "5NPam1_jmlUk",
        "outputId": "bc1c0596-90f6-4aaa-ff67-9af103057aa0"
      },
      "outputs": [
        {
          "output_type": "stream",
          "name": "stdout",
          "text": [
            "     Date           Opponent  Score W/L Location  Attendance\n",
            "0  Feb 07            UALBANY   21-9   W     Home        2127\n",
            "1  Feb 15        #7 Maryland   15-9   W     Away         758\n",
            "2  Feb 18            CORNELL  18-10   W     Home        2214\n",
            "3  Feb 22  #2 North Carolina   8-16   L     Away        1088\n",
            "4  Feb 25    #3 NORTHWESTERN   8-12   L     Home        2080\n",
            "          Metric  Syracuse_Total  Opponents_Total\n",
            "0          Goals             235              221\n",
            "1          Shots             538              552\n",
            "2  Shots on Goal             403              383\n",
            "3          Saves             162              168\n",
            "Total games played: 19\n",
            "Wins: 10\n",
            "Losses: 9\n",
            "Location\n",
            "Home       9\n",
            "Away       8\n",
            "Neutral    2\n",
            "Name: count, dtype: int64\n",
            "Location  W/L\n",
            "Away      L      4\n",
            "          W      4\n",
            "Home      L      4\n",
            "          W      5\n",
            "Neutral   L      1\n",
            "          W      1\n",
            "dtype: int64\n",
            "Avg goals scored: 12.368421052631579\n",
            "Avg goals conceded: 11.631578947368421\n"
          ]
        }
      ],
      "source": [
        "import pandas as pd\n",
        "\n",
        "# Load datasets\n",
        "games = pd.read_csv('/content/game_results.csv')\n",
        "stats = pd.read_csv('/content/team_stats.csv')\n",
        "\n",
        "# Show basic data\n",
        "print(games.head())\n",
        "print(stats)\n",
        "\n",
        "# Total games\n",
        "print(\"Total games played:\", len(games))\n",
        "\n",
        "# Win-loss breakdown\n",
        "print(\"Wins:\", sum(games['W/L'] == 'W'))\n",
        "print(\"Losses:\", sum(games['W/L'] == 'L'))\n",
        "\n",
        "# Home, Away, Neutral record\n",
        "print(games['Location'].value_counts())\n",
        "print(games.groupby(['Location', 'W/L']).size())\n",
        "\n",
        "# Average goals per game\n",
        "games[['Syracuse_Score', 'Opponent_Score']] = games['Score'].str.split('-', expand=True).astype(int)\n",
        "print(\"Avg goals scored:\", games['Syracuse_Score'].mean())\n",
        "print(\"Avg goals conceded:\", games['Opponent_Score'].mean())\n"
      ]
    },
    {
      "cell_type": "code",
      "source": [
        "# Offensive Efficiency (Goals per Shot)\n",
        "off_eff = 235 / 538\n",
        "print(\"Offensive Efficiency (Goals/Shots):\", round(off_eff, 2))\n",
        "\n",
        "# Defensive Save Percentage\n",
        "save_pct = 162 / (221 + 162)  # Saves / (Opponent Goals + Saves)\n",
        "print(\"Defensive Save %:\", round(save_pct * 100, 2))\n"
      ],
      "metadata": {
        "colab": {
          "base_uri": "https://localhost:8080/"
        },
        "id": "TM888SuApKZ5",
        "outputId": "9db421a1-58fc-492c-e5df-5ef305f1a2c0"
      },
      "execution_count": 2,
      "outputs": [
        {
          "output_type": "stream",
          "name": "stdout",
          "text": [
            "Offensive Efficiency (Goals/Shots): 0.44\n",
            "Defensive Save %: 42.3\n"
          ]
        }
      ]
    }
  ]
}